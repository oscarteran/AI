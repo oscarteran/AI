{
 "cells": [
  {
   "cell_type": "markdown",
   "id": "b7e6c7e0",
   "metadata": {},
   "source": [
    "## Neural networks with Python\n",
    "\n",
    "Author:\n",
    "    Oscar Hernández Terán\n",
    "    \n",
    "Bachelor's Degree: \n",
    "    Geophysical Engineer"
   ]
  },
  {
   "cell_type": "code",
   "execution_count": null,
   "id": "949f62be",
   "metadata": {},
   "outputs": [],
   "source": []
  }
 ],
 "metadata": {
  "kernelspec": {
   "display_name": "Python 3",
   "language": "python",
   "name": "python3"
  },
  "language_info": {
   "codemirror_mode": {
    "name": "ipython",
    "version": 3
   },
   "file_extension": ".py",
   "mimetype": "text/x-python",
   "name": "python",
   "nbconvert_exporter": "python",
   "pygments_lexer": "ipython3",
   "version": "3.8.8"
  }
 },
 "nbformat": 4,
 "nbformat_minor": 5
}
